{
 "cells": [
  {
   "cell_type": "markdown",
   "id": "5ec04beb-4e8a-43bc-8261-fe82587fb473",
   "metadata": {},
   "source": [
    "# Q-Learning"
   ]
  },
  {
   "cell_type": "code",
   "execution_count": 1,
   "id": "c6c30dbd-1fce-47ad-9b52-808311cd701a",
   "metadata": {},
   "outputs": [],
   "source": [
    "import numpy as np\n",
    "import random\n",
    "import matplotlib.pyplot as plt\n",
    "%matplotlib inline\n",
    "from matplotlib import colors"
   ]
  },
  {
   "cell_type": "code",
   "execution_count": 2,
   "id": "79b7804a-5d8a-4450-b14f-ff4611073e88",
   "metadata": {},
   "outputs": [],
   "source": [
    "R = np.array([[0, 0, 0, -1, 0, 0, -1, 0, 0, 0],\n",
    "              [0, -1, -1, -1, 0, 0, 0, 0, -1, 0],\n",
    "              [0, 0, 0, 0, 0, 0, 0, 0, -1, 0],\n",
    "              [0, -1, 0, 0, -1, 0, 0, 0, -1, 0],\n",
    "              [0, -1, 0, 0, -1, -1, -1, -1, -1, 0],\n",
    "              [0, -1, 0, 0, 0, 0, 0, 0, -1, 0],\n",
    "              [0, -1, -1, -1, 0, 0, -1, 0, -1, 0],\n",
    "              [0, 0, 0, -1, 0, 0, -1, 0, 0, 0],\n",
    "              [0, 0, 0, 0, 0, 0, -1, 0, 0, 0]])"
   ]
  },
  {
   "cell_type": "code",
   "execution_count": 3,
   "id": "dc5e69c2-6ba4-4b32-9fc9-4b933db735c2",
   "metadata": {},
   "outputs": [],
   "source": [
    "alpha = 0.7\n",
    "gamma = 0.95\n",
    "max_epsilon = 1.0\n",
    "min_epsilon = 0.05\n",
    "decay_rate = 0.0005\n",
    "epochs = 10000\n",
    "actions = ['up', 'down', 'left', 'right']\n",
    "x = len(R)\n",
    "y = len(R[0])\n",
    "states = x*y\n",
    "Q = np.zeros((states, 4))\n",
    "max_steps = 200\n",
    "goal_state = 49"
   ]
  },
  {
   "cell_type": "code",
   "execution_count": 4,
   "id": "a0d06085-be9d-42db-82ed-33f3673f0fa6",
   "metadata": {},
   "outputs": [],
   "source": [
    "state = 0\n",
    "walls = []\n",
    "\n",
    "for i in range(x):\n",
    "    for j in range(y):\n",
    "        if R[i][j] == -1:\n",
    "            walls.append(state)\n",
    "            for a in range(len(actions)):\n",
    "                Q[state][a] = -1\n",
    "        state += 1\n",
    "\n",
    "state = 0\n",
    "\n",
    "for i in range(x):\n",
    "    for j in range(y):\n",
    "        if i == 0 or state - 10 in walls:\n",
    "            Q[state][actions.index('up')] = -1\n",
    "        if i == x - 1 or state + 10 in walls:\n",
    "            Q[state][actions.index('down')] = -1\n",
    "        if j == 0 or state - 1 in walls:\n",
    "            Q[state][actions.index('left')] = -1\n",
    "        if j == y - 1 or state + 1 in walls:\n",
    "            Q[state][actions.index('right')] = -1\n",
    "        state += 1"
   ]
  },
  {
   "cell_type": "code",
   "execution_count": 5,
   "id": "48aab3bc-2043-4119-a244-1694c0336a4b",
   "metadata": {},
   "outputs": [
    {
     "data": {
      "text/plain": [
       "array([[-1.,  0., -1.,  0.],\n",
       "       [-1., -1.,  0.,  0.],\n",
       "       [-1., -1.,  0., -1.],\n",
       "       [-1., -1., -1., -1.],\n",
       "       [-1.,  0., -1.,  0.],\n",
       "       [-1.,  0.,  0., -1.],\n",
       "       [-1., -1., -1., -1.],\n",
       "       [-1.,  0., -1.,  0.],\n",
       "       [-1., -1.,  0.,  0.],\n",
       "       [-1.,  0.,  0., -1.],\n",
       "       [ 0.,  0., -1., -1.],\n",
       "       [-1., -1., -1., -1.],\n",
       "       [-1., -1., -1., -1.],\n",
       "       [-1., -1., -1., -1.],\n",
       "       [ 0.,  0., -1.,  0.],\n",
       "       [ 0.,  0.,  0.,  0.],\n",
       "       [-1.,  0.,  0.,  0.],\n",
       "       [ 0.,  0.,  0., -1.],\n",
       "       [-1., -1., -1., -1.],\n",
       "       [ 0.,  0., -1., -1.],\n",
       "       [ 0.,  0., -1.,  0.],\n",
       "       [-1., -1.,  0.,  0.],\n",
       "       [-1.,  0.,  0.,  0.],\n",
       "       [-1.,  0.,  0.,  0.],\n",
       "       [ 0., -1.,  0.,  0.],\n",
       "       [ 0.,  0.,  0.,  0.],\n",
       "       [ 0.,  0.,  0.,  0.],\n",
       "       [ 0.,  0.,  0., -1.],\n",
       "       [-1., -1., -1., -1.],\n",
       "       [ 0.,  0., -1., -1.],\n",
       "       [ 0.,  0., -1., -1.],\n",
       "       [-1., -1., -1., -1.],\n",
       "       [ 0.,  0., -1.,  0.],\n",
       "       [ 0.,  0.,  0., -1.],\n",
       "       [-1., -1., -1., -1.],\n",
       "       [ 0., -1., -1.,  0.],\n",
       "       [ 0., -1.,  0.,  0.],\n",
       "       [ 0., -1.,  0., -1.],\n",
       "       [-1., -1., -1., -1.],\n",
       "       [ 0.,  0., -1., -1.],\n",
       "       [ 0.,  0., -1., -1.],\n",
       "       [-1., -1., -1., -1.],\n",
       "       [ 0.,  0., -1.,  0.],\n",
       "       [ 0.,  0.,  0., -1.],\n",
       "       [-1., -1., -1., -1.],\n",
       "       [-1., -1., -1., -1.],\n",
       "       [-1., -1., -1., -1.],\n",
       "       [-1., -1., -1., -1.],\n",
       "       [-1., -1., -1., -1.],\n",
       "       [ 0.,  0., -1., -1.],\n",
       "       [ 0.,  0., -1., -1.],\n",
       "       [-1., -1., -1., -1.],\n",
       "       [ 0., -1., -1.,  0.],\n",
       "       [ 0., -1.,  0.,  0.],\n",
       "       [-1.,  0.,  0.,  0.],\n",
       "       [-1.,  0.,  0.,  0.],\n",
       "       [-1., -1.,  0.,  0.],\n",
       "       [-1.,  0.,  0., -1.],\n",
       "       [-1., -1., -1., -1.],\n",
       "       [ 0.,  0., -1., -1.],\n",
       "       [ 0.,  0., -1., -1.],\n",
       "       [-1., -1., -1., -1.],\n",
       "       [-1., -1., -1., -1.],\n",
       "       [-1., -1., -1., -1.],\n",
       "       [ 0.,  0., -1.,  0.],\n",
       "       [ 0.,  0.,  0., -1.],\n",
       "       [-1., -1., -1., -1.],\n",
       "       [ 0.,  0., -1., -1.],\n",
       "       [-1., -1., -1., -1.],\n",
       "       [ 0.,  0., -1., -1.],\n",
       "       [ 0.,  0., -1.,  0.],\n",
       "       [-1.,  0.,  0.,  0.],\n",
       "       [-1.,  0.,  0., -1.],\n",
       "       [-1., -1., -1., -1.],\n",
       "       [ 0.,  0., -1.,  0.],\n",
       "       [ 0.,  0.,  0., -1.],\n",
       "       [-1., -1., -1., -1.],\n",
       "       [ 0.,  0., -1.,  0.],\n",
       "       [-1.,  0.,  0.,  0.],\n",
       "       [ 0.,  0.,  0., -1.],\n",
       "       [ 0., -1., -1.,  0.],\n",
       "       [ 0., -1.,  0.,  0.],\n",
       "       [ 0., -1.,  0.,  0.],\n",
       "       [-1., -1.,  0.,  0.],\n",
       "       [ 0., -1.,  0.,  0.],\n",
       "       [ 0., -1.,  0., -1.],\n",
       "       [-1., -1., -1., -1.],\n",
       "       [ 0., -1., -1.,  0.],\n",
       "       [ 0., -1.,  0.,  0.],\n",
       "       [ 0., -1.,  0., -1.]])"
      ]
     },
     "execution_count": 5,
     "metadata": {},
     "output_type": "execute_result"
    }
   ],
   "source": [
    "Q"
   ]
  },
  {
   "cell_type": "code",
   "execution_count": 6,
   "id": "119b593c-08f1-41c5-a5a3-d690e4ef4f93",
   "metadata": {},
   "outputs": [],
   "source": [
    "def get_epsilon(epoch):\n",
    "    return min_epsilon + (max_epsilon - min_epsilon) * np.exp(-decay_rate * epoch)"
   ]
  },
  {
   "cell_type": "code",
   "execution_count": 7,
   "id": "dfd6f35b-4cbe-4131-a120-c180ffedc783",
   "metadata": {},
   "outputs": [],
   "source": [
    "def take_action(random_state, epsilon):\n",
    "    indexes = [index for index,value in enumerate(Q[random_state]) if value != -1]\n",
    "    possible_actions = [value for index,value in enumerate(actions) if index in indexes]\n",
    "    if np.random.random() > epsilon:\n",
    "        if np.max(Q[random_state]) == -1:\n",
    "            return None\n",
    "        else:\n",
    "            return actions[np.argmax(Q[random_state])]\n",
    "    else:    \n",
    "        return random.choice(possible_actions)"
   ]
  },
  {
   "cell_type": "code",
   "execution_count": 8,
   "id": "bbe01e0b-ee8f-42a0-a658-fa3d51e9a957",
   "metadata": {},
   "outputs": [],
   "source": [
    "def update_table(state, action, reward, next_state):\n",
    "    \"\"\"\n",
    "    Update Q table\n",
    "    \"\"\"\n",
    "    #Q[state][actions.index(action)] = alpha * (reward + np.max(Q[next_state]))\n",
    "    Q[state][actions.index(action)] += alpha * (reward + gamma * np.max(Q[next_state]) - Q[state][actions.index(action)])"
   ]
  },
  {
   "cell_type": "code",
   "execution_count": 9,
   "id": "879ad562-62db-48ae-8459-5558a75f204d",
   "metadata": {},
   "outputs": [
    {
     "name": "stdout",
     "output_type": "stream",
     "text": [
      "CPU times: user 2.54 s, sys: 40.4 ms, total: 2.58 s\n",
      "Wall time: 2.53 s\n"
     ]
    }
   ],
   "source": [
    "%%time\n",
    "possible_states = [x for x in range(len(Q)) if x not in walls]\n",
    "for epoch in range(epochs):\n",
    "    #print(f\"Epoch: {epoch}\")\n",
    "    random_state = random.choice(possible_states)\n",
    "    epsilon = get_epsilon(epoch)\n",
    "    for steps in range(max_steps):\n",
    "        action = take_action(random_state, epsilon)\n",
    "        if action == None:\n",
    "            break\n",
    "        elif action == 'up':\n",
    "            next_state = random_state - 10\n",
    "        elif action == 'down':\n",
    "            next_state = random_state + 10\n",
    "        elif action == 'left':\n",
    "            next_state = random_state - 1\n",
    "        elif action == 'right':\n",
    "            next_state = random_state + 1\n",
    "        if random_state != goal_state:\n",
    "            reward = 0\n",
    "        elif random_state == goal_state:\n",
    "            reward = 100\n",
    "        #print(f\"Epoch: {epoch}, steps: {steps}, random state: {random_state}, next state: {next_state}\")\n",
    "        update_table(random_state, action, reward, next_state)\n",
    "        random_state = next_state\n",
    "        if reward == 100:\n",
    "            break"
   ]
  },
  {
   "cell_type": "code",
   "execution_count": 10,
   "id": "ee4c9536-37f7-4cf7-804e-272b61a29131",
   "metadata": {},
   "outputs": [],
   "source": [
    "def select_state(state):\n",
    "    action = actions[np.argmax(Q[state])]\n",
    "    if action == 'up':\n",
    "        next_state = state - 10\n",
    "    elif action == 'down':\n",
    "        next_state = state + 10\n",
    "    elif action == 'left':\n",
    "        next_state = state - 1\n",
    "    elif action == 'right':\n",
    "        next_state = state + 1\n",
    "    return next_state"
   ]
  },
  {
   "cell_type": "code",
   "execution_count": 11,
   "id": "41a4c33b-58e9-4471-a525-2b49f54b096b",
   "metadata": {},
   "outputs": [],
   "source": [
    "random_state = random.choice(possible_states)"
   ]
  },
  {
   "cell_type": "code",
   "execution_count": 12,
   "id": "a82faa86-d94b-4671-8038-155049681726",
   "metadata": {},
   "outputs": [],
   "source": [
    "state = random_state"
   ]
  },
  {
   "cell_type": "code",
   "execution_count": 13,
   "id": "e8fb4ff7-52ed-4a91-b443-fbf3022f99aa",
   "metadata": {},
   "outputs": [],
   "source": [
    "path = []"
   ]
  },
  {
   "cell_type": "code",
   "execution_count": 14,
   "id": "848327b4-d408-4018-b6ae-1014de9c5608",
   "metadata": {},
   "outputs": [],
   "source": [
    "while state != goal_state:\n",
    "    path.append(state)\n",
    "    next_state = select_state(state)\n",
    "    state = next_state\n",
    "    if state == goal_state:\n",
    "        path.append(state)\n",
    "        break"
   ]
  },
  {
   "cell_type": "code",
   "execution_count": 15,
   "id": "99d0e923-f33a-46cc-a87b-627656c99259",
   "metadata": {},
   "outputs": [
    {
     "data": {
      "text/plain": [
       "49"
      ]
     },
     "execution_count": 15,
     "metadata": {},
     "output_type": "execute_result"
    }
   ],
   "source": [
    "state"
   ]
  },
  {
   "cell_type": "code",
   "execution_count": 16,
   "id": "614b18a9-178c-4807-9f77-958705d5691b",
   "metadata": {},
   "outputs": [
    {
     "data": {
      "text/plain": [
       "[82, 83, 84, 74, 64, 54, 55, 56, 57, 67, 77, 78, 79, 69, 59, 49]"
      ]
     },
     "execution_count": 16,
     "metadata": {},
     "output_type": "execute_result"
    }
   ],
   "source": [
    "path"
   ]
  },
  {
   "cell_type": "code",
   "execution_count": 17,
   "id": "49fdb1e6-b113-4290-a4da-d824311d5438",
   "metadata": {},
   "outputs": [
    {
     "data": {
      "text/plain": [
       "16"
      ]
     },
     "execution_count": 17,
     "metadata": {},
     "output_type": "execute_result"
    }
   ],
   "source": [
    "len(path)"
   ]
  },
  {
   "cell_type": "code",
   "execution_count": 18,
   "id": "f271b413-a513-4ce9-ae36-7d20ad4dc8ad",
   "metadata": {},
   "outputs": [
    {
     "data": {
      "text/plain": [
       "82"
      ]
     },
     "execution_count": 18,
     "metadata": {},
     "output_type": "execute_result"
    }
   ],
   "source": [
    "random_state"
   ]
  },
  {
   "cell_type": "code",
   "execution_count": 19,
   "id": "a243ccf1-44d5-41fa-b445-fc4f5f42d6ac",
   "metadata": {},
   "outputs": [
    {
     "data": {
      "text/plain": [
       "array([407.39930098, 367.67786914,  -1.        ,  -1.        ])"
      ]
     },
     "execution_count": 19,
     "metadata": {},
     "output_type": "execute_result"
    }
   ],
   "source": [
    "Q[50]"
   ]
  },
  {
   "cell_type": "code",
   "execution_count": 20,
   "id": "50daacb4-5768-4233-a534-f77ab4f565da",
   "metadata": {},
   "outputs": [],
   "source": [
    "R_copy = R.copy()"
   ]
  },
  {
   "cell_type": "code",
   "execution_count": 21,
   "id": "64efd28b-9f09-4076-8444-d1fbd5155210",
   "metadata": {},
   "outputs": [],
   "source": [
    "R_copy = R_copy.ravel()"
   ]
  },
  {
   "cell_type": "code",
   "execution_count": 22,
   "id": "7c60d326-22e8-46a4-b5ec-7db4a6f48b52",
   "metadata": {},
   "outputs": [],
   "source": [
    "cmap = colors.ListedColormap(['blue', 'white', 'green'])\n",
    "bounds = [-1, 0, 1]\n",
    "norm = colors.TwoSlopeNorm(vmin=-1, vcenter=0, vmax=1)"
   ]
  },
  {
   "cell_type": "code",
   "execution_count": 23,
   "id": "20425ef7-18ee-4ffd-897f-25e2be784792",
   "metadata": {},
   "outputs": [],
   "source": [
    "for x in range(len(R_copy)):\n",
    "    if x in path:\n",
    "        R_copy[x] = 1"
   ]
  },
  {
   "cell_type": "code",
   "execution_count": 24,
   "id": "381b1189-8dcd-48bd-bb54-d7e6f4f0f350",
   "metadata": {},
   "outputs": [],
   "source": [
    "R_copy = R_copy.reshape(9,10)"
   ]
  },
  {
   "cell_type": "code",
   "execution_count": 25,
   "id": "1f58bcff-36a2-4983-be86-8286070485a0",
   "metadata": {},
   "outputs": [
    {
     "data": {
      "text/plain": [
       "array([[ 0,  0,  0, -1,  0,  0, -1,  0,  0,  0],\n",
       "       [ 0, -1, -1, -1,  0,  0,  0,  0, -1,  0],\n",
       "       [ 0,  0,  0,  0,  0,  0,  0,  0, -1,  0],\n",
       "       [ 0, -1,  0,  0, -1,  0,  0,  0, -1,  0],\n",
       "       [ 0, -1,  0,  0, -1, -1, -1, -1, -1,  1],\n",
       "       [ 0, -1,  0,  0,  1,  1,  1,  1, -1,  1],\n",
       "       [ 0, -1, -1, -1,  1,  0, -1,  1, -1,  1],\n",
       "       [ 0,  0,  0, -1,  1,  0, -1,  1,  1,  1],\n",
       "       [ 0,  0,  1,  1,  1,  0, -1,  0,  0,  0]])"
      ]
     },
     "execution_count": 25,
     "metadata": {},
     "output_type": "execute_result"
    }
   ],
   "source": [
    "R_copy"
   ]
  },
  {
   "cell_type": "code",
   "execution_count": 26,
   "id": "f2ae4bbb-528a-4985-aa5f-d2a8a0a16b0d",
   "metadata": {},
   "outputs": [
    {
     "data": {
      "image/png": "[encoded data removed]",
      "text/plain": [
       "<Figure size 640x480 with 1 Axes>"
      ]
     },
     "metadata": {},
     "output_type": "display_data"
    }
   ],
   "source": [
    "fig, ax = plt.subplots()\n",
    "ax.imshow(R_copy, cmap=cmap, norm=norm)\n",
    "ax.grid(which='major', axis='both', linestyle='-', color='k', linewidth=2)\n",
    "ax.set_title(\"Solved maze\")\n",
    "ax.set_xticks(np.arange(-.5, 10, 1));\n",
    "ax.set_yticks(np.arange(-.5, 10, 1));"
   ]
  },
  {
   "cell_type": "code",
   "execution_count": 27,
   "id": "53d0311e-3e09-4dea-bfb9-1a18ac72aea5",
   "metadata": {},
   "outputs": [],
   "source": [
    "fig.savefig(f\"images/state-{random_state}-path.png\")"
   ]
  },
  {
   "cell_type": "code",
   "execution_count": null,
   "id": "1034f029-f4f8-4dfd-a35a-3630cb70d3fa",
   "metadata": {},
   "outputs": [],
   "source": []
  }
 ],
 "metadata": {
  "kernelspec": {
   "display_name": "Python 3 (ipykernel)",
   "language": "python",
   "name": "python3"
  },
  "language_info": {
   "codemirror_mode": {
    "name": "ipython",
    "version": 3
   },
   "file_extension": ".py",
   "mimetype": "text/x-python",
   "name": "python",
   "nbconvert_exporter": "python",
   "pygments_lexer": "ipython3",
   "version": "3.11.9"
  }
 },
 "nbformat": 4,
 "nbformat_minor": 5
}
